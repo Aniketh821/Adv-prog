{
  "nbformat": 4,
  "nbformat_minor": 0,
  "metadata": {
    "colab": {
      "name": "Assignment-4(30-05-2020)",
      "provenance": [],
      "authorship_tag": "ABX9TyOMK6VXKHZXl1kttSLKwA5k",
      "include_colab_link": true
    },
    "kernelspec": {
      "name": "python3",
      "display_name": "Python 3"
    }
  },
  "cells": [
    {
      "cell_type": "markdown",
      "metadata": {
        "id": "view-in-github",
        "colab_type": "text"
      },
      "source": [
        "<a href=\"https://colab.research.google.com/github/Aniketh821/Adv-prog/blob/master/Assignment_4(30_05_2020).ipynb\" target=\"_parent\"><img src=\"https://colab.research.google.com/assets/colab-badge.svg\" alt=\"Open In Colab\"/></a>"
      ]
    },
    {
      "cell_type": "code",
      "metadata": {
        "id": "pv62AH-A7DPZ",
        "colab_type": "code",
        "colab": {}
      },
      "source": [
        ""
      ],
      "execution_count": 0,
      "outputs": []
    },
    {
      "cell_type": "code",
      "metadata": {
        "id": "ezzcIenD7PfO",
        "colab_type": "code",
        "colab": {}
      },
      "source": [
        "\n",
        "f=open(\"sample.txt\",\"w\")\n",
        "f.write(\"Hi Everyone\")\n",
        "f.close()"
      ],
      "execution_count": 0,
      "outputs": []
    },
    {
      "cell_type": "code",
      "metadata": {
        "id": "y4YzC74N7Qtj",
        "colab_type": "code",
        "colab": {}
      },
      "source": [
        "f=open(\"sample.txt\",\"a\")\n",
        "s='''\\n This is python programming\n",
        "in Advanced Programming'''\n",
        "f.write(s)\n",
        "f.close()"
      ],
      "execution_count": 0,
      "outputs": []
    },
    {
      "cell_type": "markdown",
      "metadata": {
        "id": "ywTmCZ6Y7byU",
        "colab_type": "text"
      },
      "source": [
        "#Question 1:\n",
        "\n",
        "Count the no.of words,no.of letters,no.of lines available in your file"
      ]
    },
    {
      "cell_type": "code",
      "metadata": {
        "id": "2FQfn6hV7en-",
        "colab_type": "code",
        "colab": {
          "base_uri": "https://localhost:8080/",
          "height": 34
        },
        "outputId": "f4e312d3-0e27-4688-8155-60ca3a9f5b21"
      },
      "source": [
        "f = open(\"sample.txt\", \"r\")\n",
        "\n",
        "numberoflines = 0\n",
        "numberofwords = 0\n",
        "letters = 0\n",
        "for l in f:\n",
        "  l = l.strip(\"\\n\")\n",
        "\n",
        "  words = l.split()\n",
        "  numberoflines += 1\n",
        "  numberofwords += len(words)\n",
        "  letters += len(l)\n",
        "\n",
        "f.close()\n",
        "\n",
        "print(\"lines:\", numberoflines, \"words:\", numberofwords, \"letters:\", letters)"
      ],
      "execution_count": 3,
      "outputs": [
        {
          "output_type": "stream",
          "text": [
            "lines: 3 words: 9 letters: 61\n"
          ],
          "name": "stdout"
        }
      ]
    },
    {
      "cell_type": "markdown",
      "metadata": {
        "id": "qMwIZuWP7rCQ",
        "colab_type": "text"
      },
      "source": [
        "#Question 2:\n",
        "Copy the content of one file to another"
      ]
    },
    {
      "cell_type": "code",
      "metadata": {
        "id": "TReUsbZf7t-0",
        "colab_type": "code",
        "colab": {}
      },
      "source": [
        "f=open(\"sample.txt\",\"r\")\n",
        "f1=open(\"text.txt\",\"w\")\n",
        "for line in f:\n",
        "  f1.write(line)\n",
        "f.close()\n",
        "f1.close()"
      ],
      "execution_count": 0,
      "outputs": []
    },
    {
      "cell_type": "code",
      "metadata": {
        "id": "NaMaHvQn7xe6",
        "colab_type": "code",
        "colab": {
          "base_uri": "https://localhost:8080/",
          "height": 68
        },
        "outputId": "b055b1f8-d11b-4c0c-cb42-5942abe987a8"
      },
      "source": [
        "f1=open(\"text.txt\",\"r\")\n",
        "data=f1.read()\n",
        "print(data)\n",
        "f1.close()"
      ],
      "execution_count": 5,
      "outputs": [
        {
          "output_type": "stream",
          "text": [
            "Hi Everyone\n",
            " This is python programming\n",
            "in Advanced Programming\n"
          ],
          "name": "stdout"
        }
      ]
    },
    {
      "cell_type": "markdown",
      "metadata": {
        "id": "iKkMoi1X788e",
        "colab_type": "text"
      },
      "source": [
        "#Question 3:\n",
        "Display the words starting with letter 'p'"
      ]
    },
    {
      "cell_type": "code",
      "metadata": {
        "id": "_f1-LdBC7_W3",
        "colab_type": "code",
        "colab": {
          "base_uri": "https://localhost:8080/",
          "height": 51
        },
        "outputId": "be3c3dc7-8535-4c41-fe52-930f4edbfbb4"
      },
      "source": [
        "f=open(\"sample.txt\",\"r\")\n",
        "for line in f:\n",
        "  words=line.split()\n",
        "  for i in words:\n",
        "    if(i[0]==\"p\"):\n",
        "      print(i)\n"
      ],
      "execution_count": 6,
      "outputs": [
        {
          "output_type": "stream",
          "text": [
            "python\n",
            "programming\n"
          ],
          "name": "stdout"
        }
      ]
    },
    {
      "cell_type": "markdown",
      "metadata": {
        "id": "YPgjV-gK8G4e",
        "colab_type": "text"
      },
      "source": [
        "\n",
        "#Question 4:\n",
        "Rename and remove files"
      ]
    },
    {
      "cell_type": "code",
      "metadata": {
        "id": "AQJbl14A8Jt_",
        "colab_type": "code",
        "colab": {}
      },
      "source": [
        "import os\n",
        "os.rename(\"text.txt\",\"new.txt\")\n",
        "os.remove(\"new.txt\")"
      ],
      "execution_count": 0,
      "outputs": []
    },
    {
      "cell_type": "markdown",
      "metadata": {
        "id": "XMu8bV3e8YbV",
        "colab_type": "text"
      },
      "source": [
        "#Question 5:\n",
        "\n",
        "Create a folder\n",
        "\n",
        "Goto that folder and create 5 no.of files\n",
        "\n",
        "All the file names should be unique\n",
        "\n",
        "Add some content into the file and the content in all the files should be unique\n",
        "\n",
        "File size should be 512bits\n"
      ]
    },
    {
      "cell_type": "code",
      "metadata": {
        "id": "k_ZjnI0L8lFz",
        "colab_type": "code",
        "colab": {
          "base_uri": "https://localhost:8080/",
          "height": 34
        },
        "outputId": "95fb8b43-659c-43a7-e921-19f894d5833b"
      },
      "source": [
        "\n",
        "import os\n",
        "path=\"/tmp/ap\"\n",
        "\n",
        "try:\n",
        "  os.mkdir(path)\n",
        "except OSError:\n",
        "  print(\"unsuccessfull \")\n",
        "else:\n",
        "  print(\"Successfully created the directory %s\" %path)"
      ],
      "execution_count": 8,
      "outputs": [
        {
          "output_type": "stream",
          "text": [
            "Successfully created the directory /tmp/ap\n"
          ],
          "name": "stdout"
        }
      ]
    },
    {
      "cell_type": "code",
      "metadata": {
        "id": "wwjiiTwJ8bAL",
        "colab_type": "code",
        "colab": {}
      },
      "source": [
        "import os\n",
        "path=\"/tmp/ap\"\n",
        "os.chdir(path)"
      ],
      "execution_count": 0,
      "outputs": []
    },
    {
      "cell_type": "code",
      "metadata": {
        "id": "tuVOLDez8usJ",
        "colab_type": "code",
        "colab": {}
      },
      "source": [
        "\n",
        "f=open(os.path.join('/tmp/ap','file1.txt'),\"w\")\n",
        "f.write(\"This is the first file in the folder ap(advanced programming)   \")\n",
        "f.close()"
      ],
      "execution_count": 0,
      "outputs": []
    },
    {
      "cell_type": "code",
      "metadata": {
        "id": "Nf369a888yS2",
        "colab_type": "code",
        "colab": {}
      },
      "source": [
        "f=open(os.path.join('/tmp/ap','file2.txt'),\"w\")\n",
        "f.write(\"This is the second file in the folder ap(advanced programming)  \")\n",
        "f.close()"
      ],
      "execution_count": 0,
      "outputs": []
    },
    {
      "cell_type": "code",
      "metadata": {
        "id": "B6mOc3Jc817F",
        "colab_type": "code",
        "colab": {}
      },
      "source": [
        "\n",
        "f=open(os.path.join('/tmp/ap','file3.txt'),\"w\")\n",
        "f.write(\"This is the third file in the ap(advanced programming) floder   \")\n",
        "f.close()"
      ],
      "execution_count": 0,
      "outputs": []
    },
    {
      "cell_type": "code",
      "metadata": {
        "id": "lWa3Kmnr853j",
        "colab_type": "code",
        "colab": {}
      },
      "source": [
        "f=open(os.path.join('/tmp/ap','file4.txt'),\"w\")\n",
        "f.write(\"This is the fourth file                                         \")\n",
        "f.close()"
      ],
      "execution_count": 0,
      "outputs": []
    },
    {
      "cell_type": "code",
      "metadata": {
        "id": "J5qqP8g688qb",
        "colab_type": "code",
        "colab": {}
      },
      "source": [
        "\n",
        "f=open(os.path.join('/tmp/ap','file5.txt'),\"w\")\n",
        "f.write(\"This is the fifth file                                          \")\n",
        "f.close()"
      ],
      "execution_count": 0,
      "outputs": []
    },
    {
      "cell_type": "code",
      "metadata": {
        "id": "zzmgPuRL8_SI",
        "colab_type": "code",
        "colab": {
          "base_uri": "https://localhost:8080/",
          "height": 71
        },
        "outputId": "892e52c8-4df4-40ec-f0cf-62d4f8519ab4"
      },
      "source": [
        "import os\n",
        "file=\"/tmp/ap/file1.txt\"\n",
        "f_stats=os.stat('file1.txt')\n",
        "print(f_stats)\n",
        "print(f'File size {f_stats.st_size} bytes')"
      ],
      "execution_count": 15,
      "outputs": [
        {
          "output_type": "stream",
          "text": [
            "os.stat_result(st_mode=33188, st_ino=6422614, st_dev=51, st_nlink=1, st_uid=0, st_gid=0, st_size=64, st_atime=1590948997, st_mtime=1590948997, st_ctime=1590948997)\n",
            "File size 64 bytes\n"
          ],
          "name": "stdout"
        }
      ]
    },
    {
      "cell_type": "code",
      "metadata": {
        "id": "CtulNH8N9CCn",
        "colab_type": "code",
        "colab": {
          "base_uri": "https://localhost:8080/",
          "height": 71
        },
        "outputId": "eac730ca-85ff-48a7-fdac-68be74dc60c9"
      },
      "source": [
        "import os\n",
        "file=\"/tmp/ap/file2.txt\"\n",
        "f_stats=os.stat('file2.txt')\n",
        "print(f_stats)\n",
        "print(f'File size {f_stats.st_size} bytes')"
      ],
      "execution_count": 16,
      "outputs": [
        {
          "output_type": "stream",
          "text": [
            "os.stat_result(st_mode=33188, st_ino=6422615, st_dev=51, st_nlink=1, st_uid=0, st_gid=0, st_size=64, st_atime=1590949012, st_mtime=1590949012, st_ctime=1590949012)\n",
            "File size 64 bytes\n"
          ],
          "name": "stdout"
        }
      ]
    },
    {
      "cell_type": "code",
      "metadata": {
        "id": "yfGJ6cMn9Jz8",
        "colab_type": "code",
        "colab": {
          "base_uri": "https://localhost:8080/",
          "height": 71
        },
        "outputId": "6eb85d79-10ac-40f1-f22c-d400ee02d961"
      },
      "source": [
        "import os\n",
        "file=\"/tmp/ap/file3.txt\"\n",
        "f_stats=os.stat('file3.txt')\n",
        "print(f_stats)\n",
        "print(f'File size {f_stats.st_size} bytes')"
      ],
      "execution_count": 17,
      "outputs": [
        {
          "output_type": "stream",
          "text": [
            "os.stat_result(st_mode=33188, st_ino=6422616, st_dev=51, st_nlink=1, st_uid=0, st_gid=0, st_size=64, st_atime=1590949027, st_mtime=1590949027, st_ctime=1590949027)\n",
            "File size 64 bytes\n"
          ],
          "name": "stdout"
        }
      ]
    },
    {
      "cell_type": "code",
      "metadata": {
        "id": "ZV7qHeTx9PiG",
        "colab_type": "code",
        "colab": {
          "base_uri": "https://localhost:8080/",
          "height": 71
        },
        "outputId": "0e532f33-1ff2-4c1e-e9fc-3a106f8011d1"
      },
      "source": [
        "import os\n",
        "file=\"/tmp/ap/file4.txt\"\n",
        "f_stats=os.stat('file4.txt')\n",
        "print(f_stats)\n",
        "print(f'File size {f_stats.st_size} bytes')"
      ],
      "execution_count": 18,
      "outputs": [
        {
          "output_type": "stream",
          "text": [
            "os.stat_result(st_mode=33188, st_ino=6422617, st_dev=51, st_nlink=1, st_uid=0, st_gid=0, st_size=64, st_atime=1590949039, st_mtime=1590949039, st_ctime=1590949039)\n",
            "File size 64 bytes\n"
          ],
          "name": "stdout"
        }
      ]
    },
    {
      "cell_type": "code",
      "metadata": {
        "id": "IgJfCW-U9W0d",
        "colab_type": "code",
        "colab": {
          "base_uri": "https://localhost:8080/",
          "height": 71
        },
        "outputId": "846bb6c5-b00c-4539-ce05-8033ab2f3fed"
      },
      "source": [
        "\n",
        "import os\n",
        "file=\"/tmp/ap/file5.txt\"\n",
        "f_stats=os.stat('file5.txt')\n",
        "print(f_stats)\n",
        "print(f'File size {f_stats.st_size} bytes')"
      ],
      "execution_count": 19,
      "outputs": [
        {
          "output_type": "stream",
          "text": [
            "os.stat_result(st_mode=33188, st_ino=6422618, st_dev=51, st_nlink=1, st_uid=0, st_gid=0, st_size=64, st_atime=1590949050, st_mtime=1590949050, st_ctime=1590949050)\n",
            "File size 64 bytes\n"
          ],
          "name": "stdout"
        }
      ]
    },
    {
      "cell_type": "code",
      "metadata": {
        "id": "ldoefAme9Zrd",
        "colab_type": "code",
        "colab": {}
      },
      "source": [
        ""
      ],
      "execution_count": 0,
      "outputs": []
    }
  ]
}