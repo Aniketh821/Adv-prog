{
  "nbformat": 4,
  "nbformat_minor": 0,
  "metadata": {
    "colab": {
      "name": "Assignment 3(29-05-2020)",
      "provenance": [],
      "authorship_tag": "ABX9TyOhMxoq301CRJW+7IrxBVrD",
      "include_colab_link": true
    },
    "kernelspec": {
      "name": "python3",
      "display_name": "Python 3"
    }
  },
  "cells": [
    {
      "cell_type": "markdown",
      "metadata": {
        "id": "view-in-github",
        "colab_type": "text"
      },
      "source": [
        "<a href=\"https://colab.research.google.com/github/Aniketh821/Adv-prog/blob/master/Assignment_%20%203(29_05_2020).ipynb\" target=\"_parent\"><img src=\"https://colab.research.google.com/assets/colab-badge.svg\" alt=\"Open In Colab\"/></a>"
      ]
    },
    {
      "cell_type": "code",
      "metadata": {
        "id": "_122qOalzvA2",
        "colab_type": "code",
        "colab": {}
      },
      "source": [
        ""
      ],
      "execution_count": 0,
      "outputs": []
    },
    {
      "cell_type": "markdown",
      "metadata": {
        "id": "95IQVjY0z6Wg",
        "colab_type": "text"
      },
      "source": [
        "#Question 1:\n",
        "Create a function to find Factorial of a number using Recursion\n"
      ]
    },
    {
      "cell_type": "code",
      "metadata": {
        "id": "cmwKIOUIz8OP",
        "colab_type": "code",
        "outputId": "c5d597ca-aaf1-4a07-8635-bb91caf6fa16",
        "colab": {
          "base_uri": "https://localhost:8080/",
          "height": 34
        }
      },
      "source": [
        "def factorial(n):\n",
        "  if n==0 or n==1:\n",
        "    return 1\n",
        "  else:\n",
        "    return n*factorial(n-1)\n",
        "print(factorial(5))\n",
        "  \n"
      ],
      "execution_count": 0,
      "outputs": [
        {
          "output_type": "stream",
          "text": [
            "120\n"
          ],
          "name": "stdout"
        }
      ]
    },
    {
      "cell_type": "markdown",
      "metadata": {
        "id": "3dHkc7wX8F7U",
        "colab_type": "text"
      },
      "source": [
        "#Question 2:\n",
        "Create a function and display ‘n’ Fibonacci numbers using Recursion\n"
      ]
    },
    {
      "cell_type": "code",
      "metadata": {
        "id": "rrzAzxlymwMe",
        "colab_type": "code",
        "colab": {}
      },
      "source": [
        ""
      ],
      "execution_count": 0,
      "outputs": []
    },
    {
      "cell_type": "code",
      "metadata": {
        "id": "ON8xIC948MvI",
        "colab_type": "code",
        "outputId": "3b990f04-12ca-4dcf-cd05-de5c340016eb",
        "colab": {
          "base_uri": "https://localhost:8080/",
          "height": 204
        }
      },
      "source": [
        "def recur_fibo(n):\n",
        "   if n <= 1:\n",
        "       return n\n",
        "   else:\n",
        "       return(recur_fibo(n-1) + recur_fibo(n-2))\n",
        "\n",
        "nterms = 10\n",
        "\n",
        "\n",
        "if nterms <= 0:\n",
        "   print(\"Plese enter a positive integer\")\n",
        "else:\n",
        "   print(\"Fibonacci sequence:\")\n",
        "   for i in range(nterms):\n",
        "       print(recur_fibo(i))\n"
      ],
      "execution_count": 1,
      "outputs": [
        {
          "output_type": "stream",
          "text": [
            "Fibonacci sequence:\n",
            "0\n",
            "1\n",
            "1\n",
            "2\n",
            "3\n",
            "5\n",
            "8\n",
            "13\n",
            "21\n",
            "34\n"
          ],
          "name": "stdout"
        }
      ]
    },
    {
      "cell_type": "markdown",
      "metadata": {
        "id": "3XvcR2Gg9sXT",
        "colab_type": "text"
      },
      "source": [
        "#Question 3:\n",
        "Print sum of list of elements without using sum() function\n"
      ]
    },
    {
      "cell_type": "code",
      "metadata": {
        "id": "0JEjLeST9PPb",
        "colab_type": "code",
        "outputId": "a3d54abd-51ce-4f18-f3f1-c2fdf42e1d19",
        "colab": {
          "base_uri": "https://localhost:8080/",
          "height": 34
        }
      },
      "source": [
        "\n",
        "list1=[1,2,3,4]\n",
        "total=0\n",
        "for i in range(0,len(list1)):\n",
        "  total=total+list1[i]\n",
        "print(\"sum of all elements in the list is:\",total)\n"
      ],
      "execution_count": 0,
      "outputs": [
        {
          "output_type": "stream",
          "text": [
            "sum of all elements in the list is: 10\n"
          ],
          "name": "stdout"
        }
      ]
    },
    {
      "cell_type": "code",
      "metadata": {
        "id": "daPLUdmu_-ul",
        "colab_type": "code",
        "colab": {}
      },
      "source": [
        ""
      ],
      "execution_count": 0,
      "outputs": []
    },
    {
      "cell_type": "markdown",
      "metadata": {
        "id": "QvKeLtPlACzh",
        "colab_type": "text"
      },
      "source": [
        "#Question 4:\n",
        "print only even numbers from the list\n"
      ]
    },
    {
      "cell_type": "code",
      "metadata": {
        "id": "RpDKMhj6AErw",
        "colab_type": "code",
        "outputId": "10577def-c4f9-4cab-f565-15ef6bc5dbd5",
        "colab": {
          "base_uri": "https://localhost:8080/",
          "height": 34
        }
      },
      "source": [
        "list2=[4,5,6,7,8,9,10]\n",
        "for num in list2:\n",
        "  if num%2 == 0:\n",
        "    print(num,end=\" \")\n",
        "  \n"
      ],
      "execution_count": 0,
      "outputs": [
        {
          "output_type": "stream",
          "text": [
            "4 6 8 10 "
          ],
          "name": "stdout"
        }
      ]
    },
    {
      "cell_type": "code",
      "metadata": {
        "id": "bFRcx3hpAwUq",
        "colab_type": "code",
        "colab": {}
      },
      "source": [
        ""
      ],
      "execution_count": 0,
      "outputs": []
    },
    {
      "cell_type": "markdown",
      "metadata": {
        "id": "eRdlylAfCAoI",
        "colab_type": "text"
      },
      "source": [
        "#Question 5:\n",
        "Write a Python program to get the smallest number from a list and display index of smallest element of the list\n"
      ]
    },
    {
      "cell_type": "code",
      "metadata": {
        "id": "QH7U-zt0CF-l",
        "colab_type": "code",
        "outputId": "cff05df1-6a8f-47b3-d9ba-b60be0fb241d",
        "colab": {
          "base_uri": "https://localhost:8080/",
          "height": 51
        }
      },
      "source": [
        "list=[10,3,67,34,2,56]\n",
        "a=min(list)\n",
        "print(\"smallest element is:\",a)\n",
        "print(\"the index of smallest element is:\",list.index(a))\n"
      ],
      "execution_count": 0,
      "outputs": [
        {
          "output_type": "stream",
          "text": [
            "smallest element is: 2\n",
            "the index of smallest element is: 4\n"
          ],
          "name": "stdout"
        }
      ]
    },
    {
      "cell_type": "code",
      "metadata": {
        "id": "l9MKLmkNCwzl",
        "colab_type": "code",
        "colab": {}
      },
      "source": [
        ""
      ],
      "execution_count": 0,
      "outputs": []
    },
    {
      "cell_type": "markdown",
      "metadata": {
        "id": "TM7RAjcSEJEH",
        "colab_type": "text"
      },
      "source": [
        "#Question 6:\n",
        "Write a Python function that checks whether a passed string is palindrome or not.\n"
      ]
    },
    {
      "cell_type": "code",
      "metadata": {
        "id": "zZ-EX13nEMsO",
        "colab_type": "code",
        "colab": {}
      },
      "source": [
        "str=input(\"enter a string\")\n"
      ],
      "execution_count": 0,
      "outputs": []
    },
    {
      "cell_type": "markdown",
      "metadata": {
        "id": "kvUgCU3OFRvZ",
        "colab_type": "text"
      },
      "source": [
        "#Question 7:\n",
        "Write a Python program to count the number of even and odd numbers from a series of numbers. \n",
        "Sample numbers : numbers = [1, 2, 3, 4, 5, 6, 7, 8, 9]\n",
        "Expected Output :\n",
        "Number of even numbers : 4\n",
        "Number of odd numbers : 5\n"
      ]
    },
    {
      "cell_type": "code",
      "metadata": {
        "id": "fwyiVmENFWaj",
        "colab_type": "code",
        "outputId": "07780d0e-f012-43bc-9c1f-3f9a4763db99",
        "colab": {
          "base_uri": "https://localhost:8080/",
          "height": 51
        }
      },
      "source": [
        "list3=[2,3,4,5,6,7,8]\n",
        "count=0\n",
        "counts=0\n",
        "for i in list3:\n",
        "  if i%2 == 0:\n",
        "    count+=1\n",
        "  else:\n",
        "    counts+=1\n",
        "print(\"Number of even numbers:\",count)\n",
        "print(\"Number of odd numbers:\",counts)"
      ],
      "execution_count": 0,
      "outputs": [
        {
          "output_type": "stream",
          "text": [
            "Number of even numbers: 4\n",
            "Number of odd numbers: 3\n"
          ],
          "name": "stdout"
        }
      ]
    },
    {
      "cell_type": "code",
      "metadata": {
        "id": "-3WFlfZtGpoH",
        "colab_type": "code",
        "colab": {}
      },
      "source": [
        ""
      ],
      "execution_count": 0,
      "outputs": []
    },
    {
      "cell_type": "markdown",
      "metadata": {
        "id": "kd7Ee1uUITwZ",
        "colab_type": "text"
      },
      "source": [
        "#Question 8:\n",
        "Write a Python program that prints all the numbers from 0 to 6 except 3 and 6.\n",
        "Note : Use 'continue' statement.\n",
        "Expected Output : 0 1 2 4 5\n"
      ]
    },
    {
      "cell_type": "code",
      "metadata": {
        "id": "sl2ygXOKIZOs",
        "colab_type": "code",
        "outputId": "c597d5e4-01fe-4d3b-eef3-c245111b84d7",
        "colab": {
          "base_uri": "https://localhost:8080/",
          "height": 34
        }
      },
      "source": [
        "for i in range(0,7):\n",
        "  if (i==3 or i==6):\n",
        "    continue\n",
        "  else:\n",
        "    print(i,end=\" \")\n"
      ],
      "execution_count": 0,
      "outputs": [
        {
          "output_type": "stream",
          "text": [
            "0 1 2 4 5 "
          ],
          "name": "stdout"
        }
      ]
    },
    {
      "cell_type": "code",
      "metadata": {
        "id": "wZdRFei2SScV",
        "colab_type": "code",
        "colab": {}
      },
      "source": [
        ""
      ],
      "execution_count": 0,
      "outputs": []
    }
  ]
}