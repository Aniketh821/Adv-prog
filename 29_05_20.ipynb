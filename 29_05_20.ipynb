{
  "nbformat": 4,
  "nbformat_minor": 0,
  "metadata": {
    "colab": {
      "name": "29-05-20.ipynb",
      "provenance": [],
      "authorship_tag": "ABX9TyMQ02PL6kF3dwhJS6Y6evNw",
      "include_colab_link": true
    },
    "kernelspec": {
      "name": "python3",
      "display_name": "Python 3"
    }
  },
  "cells": [
    {
      "cell_type": "markdown",
      "metadata": {
        "id": "view-in-github",
        "colab_type": "text"
      },
      "source": [
        "<a href=\"https://colab.research.google.com/github/Aniketh821/Adv-prog/blob/master/29_05_20.ipynb\" target=\"_parent\"><img src=\"https://colab.research.google.com/assets/colab-badge.svg\" alt=\"Open In Colab\"/></a>"
      ]
    },
    {
      "cell_type": "code",
      "metadata": {
        "id": "KcIfcNMSc229",
        "colab_type": "code",
        "colab": {}
      },
      "source": [
        ""
      ],
      "execution_count": 0,
      "outputs": []
    },
    {
      "cell_type": "markdown",
      "metadata": {
        "id": "xuUKXUP4c65O",
        "colab_type": "text"
      },
      "source": [
        ""
      ]
    },
    {
      "cell_type": "code",
      "metadata": {
        "id": "_THiNbA8lh9C",
        "colab_type": "code",
        "outputId": "dfed8526-eea0-4b94-b00c-0f164993a17b",
        "colab": {
          "base_uri": "https://localhost:8080/",
          "height": 85
        }
      },
      "source": [
        "#loop control statements: break, continue\n",
        "for i in range(1,11):\n",
        "  if i%5==0:\n",
        "    break\n",
        "  else:\n",
        "    print(i)"
      ],
      "execution_count": 0,
      "outputs": [
        {
          "output_type": "stream",
          "text": [
            "1\n",
            "2\n",
            "3\n",
            "4\n"
          ],
          "name": "stdout"
        }
      ]
    },
    {
      "cell_type": "code",
      "metadata": {
        "id": "T_mxmoTbmxvl",
        "colab_type": "code",
        "outputId": "90675dd3-496f-4eac-afd6-76e57d7f8a68",
        "colab": {
          "base_uri": "https://localhost:8080/",
          "height": 153
        }
      },
      "source": [
        "for i in range(1,11):\n",
        "  if i%5==0:\n",
        "    continue\n",
        "  else:\n",
        "    print(i)"
      ],
      "execution_count": 0,
      "outputs": [
        {
          "output_type": "stream",
          "text": [
            "1\n",
            "2\n",
            "3\n",
            "4\n",
            "6\n",
            "7\n",
            "8\n",
            "9\n"
          ],
          "name": "stdout"
        }
      ]
    },
    {
      "cell_type": "code",
      "metadata": {
        "id": "CxbSFODLl0GL",
        "colab_type": "code",
        "outputId": "9fc5f3b8-30dc-43f1-c1d8-c0024892d7c0",
        "colab": {
          "base_uri": "https://localhost:8080/",
          "height": 102
        }
      },
      "source": [
        "# username: python\n",
        "# password: abc123\n",
        "while True:\n",
        "  user=input(\"enter username\")\n",
        "  if user == \"python\":\n",
        "    pwd = input(\"enter pass\")\n",
        "    if pwd == \"abc123\":\n",
        "      print(\"login success\")\n",
        "      break\n",
        "  else:\n",
        "    continue\n",
        "\n"
      ],
      "execution_count": 0,
      "outputs": [
        {
          "output_type": "stream",
          "text": [
            "enter usernamesggd\n",
            "enter usernamehdhd\n",
            "enter usernamepython\n",
            "enter passabc123\n",
            "login success\n"
          ],
          "name": "stdout"
        }
      ]
    },
    {
      "cell_type": "code",
      "metadata": {
        "id": "ItXXFkrYpyNI",
        "colab_type": "code",
        "colab": {}
      },
      "source": [
        "#pass\n",
        "if 12 < 34:\n",
        "  pass\n",
        "else:\n",
        "  print(\"else\")"
      ],
      "execution_count": 0,
      "outputs": []
    },
    {
      "cell_type": "code",
      "metadata": {
        "id": "UHeEa79fq8hZ",
        "colab_type": "code",
        "colab": {}
      },
      "source": [
        ""
      ],
      "execution_count": 0,
      "outputs": []
    },
    {
      "cell_type": "markdown",
      "metadata": {
        "id": "Ey7cYVTqrKuX",
        "colab_type": "text"
      },
      "source": [
        "###Functions:\n",
        "block of statements\n",
        "1. predefined (which are already)\n",
        "2. user-defined (custom function)"
      ]
    },
    {
      "cell_type": "code",
      "metadata": {
        "id": "2dcs0hMZrPg9",
        "colab_type": "code",
        "outputId": "2c275e1c-1f27-4f95-c519-a9acd23f5137",
        "colab": {
          "base_uri": "https://localhost:8080/",
          "height": 51
        }
      },
      "source": [
        "def name(username): #function definition\n",
        "  print(\"hello\",username)\n",
        "print(name(20)) #function calling"
      ],
      "execution_count": 0,
      "outputs": [
        {
          "output_type": "stream",
          "text": [
            "hello 20\n",
            "None\n"
          ],
          "name": "stdout"
        }
      ]
    },
    {
      "cell_type": "code",
      "metadata": {
        "id": "_WLxNQMWtbft",
        "colab_type": "code",
        "outputId": "b722e7b4-66cd-4f3c-b13c-a36528514bc8",
        "colab": {
          "base_uri": "https://localhost:8080/",
          "height": 34
        }
      },
      "source": [
        "def addition(a,b):\n",
        "  return a+b\n",
        "print(addition(10,20))"
      ],
      "execution_count": 0,
      "outputs": [
        {
          "output_type": "stream",
          "text": [
            "30\n"
          ],
          "name": "stdout"
        }
      ]
    },
    {
      "cell_type": "code",
      "metadata": {
        "id": "Xn2dH95nu2Mp",
        "colab_type": "code",
        "outputId": "dfef379a-4e3b-413b-9d64-2cefe789ff10",
        "colab": {
          "base_uri": "https://localhost:8080/",
          "height": 34
        }
      },
      "source": [
        "#Multiple return values\n",
        "def arithmetic(a,b):\n",
        "  return a+b,a-b,a*b,a/b\n",
        "add,sub,mul,div = arithmetic(10,20)\n",
        "print(add)"
      ],
      "execution_count": 0,
      "outputs": [
        {
          "output_type": "stream",
          "text": [
            "30\n"
          ],
          "name": "stdout"
        }
      ]
    },
    {
      "cell_type": "markdown",
      "metadata": {
        "id": "x3cisAQZyI12",
        "colab_type": "text"
      },
      "source": [
        "### Different types of arguments:\n",
        "1. Required positional argument\n",
        "2. Default arguments\n",
        "3. keyword arguments:\n",
        "4. Variable length arguments"
      ]
    },
    {
      "cell_type": "code",
      "metadata": {
        "id": "i1b1vobRyP1X",
        "colab_type": "code",
        "outputId": "612858f5-537a-47f6-e031-fc11991e3b8b",
        "colab": {
          "base_uri": "https://localhost:8080/",
          "height": 34
        }
      },
      "source": [
        "def add(a,b):\n",
        "  return (a+b)\n",
        "add(10,2)"
      ],
      "execution_count": 23,
      "outputs": [
        {
          "output_type": "execute_result",
          "data": {
            "text/plain": [
              "12"
            ]
          },
          "metadata": {
            "tags": []
          },
          "execution_count": 23
        }
      ]
    },
    {
      "cell_type": "code",
      "metadata": {
        "id": "BO2GsqMRyaAW",
        "colab_type": "code",
        "colab": {
          "base_uri": "https://localhost:8080/",
          "height": 34
        },
        "outputId": "51c0a811-960b-41ff-e64c-5e62f3ba35c6"
      },
      "source": [
        "def add(a,b=100):\n",
        "  return a+b\n",
        "print(add(100))"
      ],
      "execution_count": 25,
      "outputs": [
        {
          "output_type": "stream",
          "text": [
            "200\n"
          ],
          "name": "stdout"
        }
      ]
    },
    {
      "cell_type": "code",
      "metadata": {
        "id": "fddOnM6F18ha",
        "colab_type": "code",
        "colab": {
          "base_uri": "https://localhost:8080/",
          "height": 34
        },
        "outputId": "814e915e-599d-412c-b9a3-3bafad01b323"
      },
      "source": [
        "def add(a,b=100):\n",
        "  return a+b\n",
        "print(add(200,200))"
      ],
      "execution_count": 26,
      "outputs": [
        {
          "output_type": "stream",
          "text": [
            "400\n"
          ],
          "name": "stdout"
        }
      ]
    },
    {
      "cell_type": "code",
      "metadata": {
        "id": "K4xzvrNr18pw",
        "colab_type": "code",
        "colab": {}
      },
      "source": [
        ""
      ],
      "execution_count": 0,
      "outputs": []
    },
    {
      "cell_type": "code",
      "metadata": {
        "id": "UzGOUCsO18zY",
        "colab_type": "code",
        "colab": {
          "base_uri": "https://localhost:8080/",
          "height": 68
        },
        "outputId": "4b87c123-2b93-4ccc-b4b0-9b06813b099a"
      },
      "source": [
        "#keyword arguments\n",
        "def add(a,b):\n",
        "  print(\"a value:\",a)\n",
        "  print(\"b value:\",b)\n",
        "  return a+b\n",
        "add(b=10,a=20)"
      ],
      "execution_count": 30,
      "outputs": [
        {
          "output_type": "stream",
          "text": [
            "a value: 20\n",
            "b value: 10\n"
          ],
          "name": "stdout"
        },
        {
          "output_type": "execute_result",
          "data": {
            "text/plain": [
              "30"
            ]
          },
          "metadata": {
            "tags": []
          },
          "execution_count": 30
        }
      ]
    },
    {
      "cell_type": "code",
      "metadata": {
        "id": "lmncqE3c19QB",
        "colab_type": "code",
        "colab": {
          "base_uri": "https://localhost:8080/",
          "height": 68
        },
        "outputId": "a8f896d6-a90a-46b2-f569-052ceeaaae92"
      },
      "source": [
        "#Variable length arguments\n",
        "def add(*a):\n",
        "  return sum(a)\n",
        "\n",
        "print(add(10,20))\n",
        "print(add(10,20,30))\n",
        "print(add(10,20,30,40))\n"
      ],
      "execution_count": 31,
      "outputs": [
        {
          "output_type": "stream",
          "text": [
            "30\n",
            "60\n",
            "100\n"
          ],
          "name": "stdout"
        }
      ]
    },
    {
      "cell_type": "code",
      "metadata": {
        "id": "M5Z39riz2Z0A",
        "colab_type": "code",
        "colab": {
          "base_uri": "https://localhost:8080/",
          "height": 51
        },
        "outputId": "489c25da-a20b-4939-f66f-27768c296e82"
      },
      "source": [
        "#nested functions:square,cube\n",
        "def square(a):\n",
        "  return a*a\n",
        "def cube(x):\n",
        "  return square(x)*x\n",
        "print(square(10))\n",
        "print(cube(10))"
      ],
      "execution_count": 32,
      "outputs": [
        {
          "output_type": "stream",
          "text": [
            "100\n",
            "1000\n"
          ],
          "name": "stdout"
        }
      ]
    },
    {
      "cell_type": "code",
      "metadata": {
        "id": "4aILYYpY7sjk",
        "colab_type": "code",
        "colab": {
          "base_uri": "https://localhost:8080/",
          "height": 51
        },
        "outputId": "156e4c20-4e98-49f1-80b5-472741aa2a6d"
      },
      "source": [
        "def mul(*a):\n",
        "  m=1\n",
        "  for i in a:\n",
        "    m=m*i\n",
        "  return m\n",
        "print(mul(10,20))\n",
        "print(mul(10,20,30))"
      ],
      "execution_count": 34,
      "outputs": [
        {
          "output_type": "stream",
          "text": [
            "200\n",
            "6000\n"
          ],
          "name": "stdout"
        }
      ]
    },
    {
      "cell_type": "code",
      "metadata": {
        "id": "oOdf_quM-HeV",
        "colab_type": "code",
        "colab": {}
      },
      "source": [
        ""
      ],
      "execution_count": 0,
      "outputs": []
    },
    {
      "cell_type": "markdown",
      "metadata": {
        "id": "yQ6QU_MM-kXf",
        "colab_type": "text"
      },
      "source": [
        "## Data structures:\n",
        "1. List:\n",
        "   - [] elements saperated by ,\n",
        "   - indexed\n",
        "   - ordered\n",
        "   -Duplicate values\n",
        "   - Mutable"
      ]
    },
    {
      "cell_type": "code",
      "metadata": {
        "id": "wJatI76B_HI-",
        "colab_type": "code",
        "colab": {
          "base_uri": "https://localhost:8080/",
          "height": 34
        },
        "outputId": "0afd4f8e-8eae-49ee-9995-e274c98b4f32"
      },
      "source": [
        "list1 = [12,23.45,True,\"abc\"]\n",
        "print(type(list1))"
      ],
      "execution_count": 39,
      "outputs": [
        {
          "output_type": "stream",
          "text": [
            "<class 'list'>\n"
          ],
          "name": "stdout"
        }
      ]
    },
    {
      "cell_type": "code",
      "metadata": {
        "id": "I_9HWXG8_dW_",
        "colab_type": "code",
        "colab": {
          "base_uri": "https://localhost:8080/",
          "height": 119
        },
        "outputId": "cee1e06d-161f-4b87-a05d-abeefadf0c22"
      },
      "source": [
        "#operators supported by list: +,*,[],[:],in,not in\n",
        "list1 = [1,2,3]\n",
        "list2 = [10,20,30]\n",
        "print(list1+list2)#concatenation\n",
        "print(list1*3)#repetitation\n",
        "print(list1[1])# 2\n",
        "print(list1[1:3])#[1,2]\n",
        "print(2 in list1)#True\n",
        "print(100 in list1)#false"
      ],
      "execution_count": 48,
      "outputs": [
        {
          "output_type": "stream",
          "text": [
            "[1, 2, 3, 10, 20, 30]\n",
            "[1, 2, 3, 1, 2, 3, 1, 2, 3]\n",
            "2\n",
            "[2, 3]\n",
            "True\n",
            "False\n"
          ],
          "name": "stdout"
        }
      ]
    },
    {
      "cell_type": "code",
      "metadata": {
        "id": "bcDMVY8Y_53-",
        "colab_type": "code",
        "colab": {
          "base_uri": "https://localhost:8080/",
          "height": 85
        },
        "outputId": "00b3df79-4c39-4b1f-dbef-086fd6c1b164"
      },
      "source": [
        "#build-in-functions\n",
        "list1 = [1,2,3,40]\n",
        "s1=\"python\"\n",
        "print(len(list1))\n",
        "print(max(list1))\n",
        "list2 = list(s1)\n",
        "print(list2)\n",
        "list1[-1]=100\n",
        "print(list1)"
      ],
      "execution_count": 56,
      "outputs": [
        {
          "output_type": "stream",
          "text": [
            "4\n",
            "40\n",
            "['p', 'y', 't', 'h', 'o', 'n']\n",
            "[1, 2, 3, 100]\n"
          ],
          "name": "stdout"
        }
      ]
    },
    {
      "cell_type": "code",
      "metadata": {
        "id": "AuQEpMXmBY16",
        "colab_type": "code",
        "colab": {}
      },
      "source": [
        ""
      ],
      "execution_count": 0,
      "outputs": []
    }
  ]
}