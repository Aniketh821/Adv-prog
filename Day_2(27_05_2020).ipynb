{
  "nbformat": 4,
  "nbformat_minor": 0,
  "metadata": {
    "colab": {
      "name": "Day 2(27-05-2020).ipynb",
      "provenance": [],
      "authorship_tag": "ABX9TyMHXy1KasdGLVBxChBeYT1u",
      "include_colab_link": true
    },
    "kernelspec": {
      "name": "python3",
      "display_name": "Python 3"
    }
  },
  "cells": [
    {
      "cell_type": "markdown",
      "metadata": {
        "id": "view-in-github",
        "colab_type": "text"
      },
      "source": [
        "<a href=\"https://colab.research.google.com/github/Aniketh821/Adv-prog/blob/master/Day_2(27_05_2020).ipynb\" target=\"_parent\"><img src=\"https://colab.research.google.com/assets/colab-badge.svg\" alt=\"Open In Colab\"/></a>"
      ]
    },
    {
      "cell_type": "markdown",
      "metadata": {
        "id": "h8jPrYGd1_by",
        "colab_type": "text"
      },
      "source": [
        ""
      ]
    },
    {
      "cell_type": "markdown",
      "metadata": {
        "id": "III6VD6T2BzN",
        "colab_type": "text"
      },
      "source": [
        "# python programming\n",
        "## python programming\n",
        "### python programming\n",
        "#### python programming"
      ]
    },
    {
      "cell_type": "markdown",
      "metadata": {
        "id": "Zq104V2n2XK8",
        "colab_type": "text"
      },
      "source": [
        ""
      ]
    },
    {
      "cell_type": "markdown",
      "metadata": {
        "id": "pTQ_0Tht2a38",
        "colab_type": "text"
      },
      "source": [
        "### List of programming languages:(ordered list)\n",
        "1. python\n",
        "2. java\n",
        "3. c\n",
        "4. c++"
      ]
    },
    {
      "cell_type": "markdown",
      "metadata": {
        "id": "DJR1qX_j20EK",
        "colab_type": "text"
      },
      "source": [
        ""
      ]
    },
    {
      "cell_type": "markdown",
      "metadata": {
        "id": "uz_OBaQL25my",
        "colab_type": "text"
      },
      "source": [
        "### List of programming languages:(unordered list)\n",
        "- python\n",
        "- java\n",
        "- c\n",
        "- c++"
      ]
    },
    {
      "cell_type": "code",
      "metadata": {
        "id": "QOu4VMtB2-yG",
        "colab_type": "code",
        "colab": {}
      },
      "source": [
        ""
      ],
      "execution_count": 0,
      "outputs": []
    },
    {
      "cell_type": "markdown",
      "metadata": {
        "id": "0mMmikRy2_XY",
        "colab_type": "text"
      },
      "source": [
        "** python programming**\n",
        "* python programming*"
      ]
    },
    {
      "cell_type": "code",
      "metadata": {
        "id": "NBEZwiDu3JBy",
        "colab_type": "code",
        "colab": {}
      },
      "source": [
        ""
      ],
      "execution_count": 0,
      "outputs": []
    },
    {
      "cell_type": "markdown",
      "metadata": {
        "id": "T_vlWJJ33Jzw",
        "colab_type": "text"
      },
      "source": [
        "[click here](https://tinyurl.com/introduction-to-python)"
      ]
    },
    {
      "cell_type": "markdown",
      "metadata": {
        "id": "L_b1lM3h3iy6",
        "colab_type": "text"
      },
      "source": [
        "![click](http://1.bp.blogspot.com/-ey1pT94lcck/V685i8M8eqI/AAAAAAAAAvU/dBbqqG0Odeka7UBkIYrmEXwKf2AgfxFpgCK4B/s1600/Tumblr_static_friends-logo-black-type_full.jpg)"
      ]
    },
    {
      "cell_type": "markdown",
      "metadata": {
        "id": "a67eHWuK4ATE",
        "colab_type": "text"
      },
      "source": [
        ""
      ]
    },
    {
      "cell_type": "code",
      "metadata": {
        "id": "YGAA8LCx4ZOX",
        "colab_type": "code",
        "colab": {
          "base_uri": "https://localhost:8080/",
          "height": 34
        },
        "outputId": "9ca1ff60-830f-46f7-82cd-8f920114f7ef"
      },
      "source": [
        "print(\"hello world\")"
      ],
      "execution_count": 1,
      "outputs": [
        {
          "output_type": "stream",
          "text": [
            "hello world\n"
          ],
          "name": "stdout"
        }
      ]
    },
    {
      "cell_type": "markdown",
      "metadata": {
        "id": "owObpueL4GWx",
        "colab_type": "text"
      },
      "source": [
        ""
      ]
    },
    {
      "cell_type": "code",
      "metadata": {
        "id": "cXe2dkc84k8V",
        "colab_type": "code",
        "colab": {
          "base_uri": "https://localhost:8080/",
          "height": 34
        },
        "outputId": "a0aaac73-7fd7-4778-e9f8-12f2b8e42a09"
      },
      "source": [
        "a = 10 #integer\n",
        "b = 23.34 #float\n",
        "c = 12+3j #Complex number\n",
        "print(type(a),type(b),type(c))\n"
      ],
      "execution_count": 2,
      "outputs": [
        {
          "output_type": "stream",
          "text": [
            "<class 'int'> <class 'float'> <class 'complex'>\n"
          ],
          "name": "stdout"
        }
      ]
    },
    {
      "cell_type": "code",
      "metadata": {
        "id": "S5VquR_R4qbn",
        "colab_type": "code",
        "colab": {}
      },
      "source": [
        ""
      ],
      "execution_count": 0,
      "outputs": []
    },
    {
      "cell_type": "code",
      "metadata": {
        "id": "zSEjXZpF4rd1",
        "colab_type": "code",
        "colab": {
          "base_uri": "https://localhost:8080/",
          "height": 68
        },
        "outputId": "cf6f2d1c-16cd-4dee-9571-f3a83f36de9d"
      },
      "source": [
        "c1 = 4+5j\n",
        "c2 = complex(6,8)\n",
        "print(c1+c2)\n",
        "print(c2.real)#real part of the complex number\n",
        "print(c2.imag)#imaginary part of the complex number\n"
      ],
      "execution_count": 3,
      "outputs": [
        {
          "output_type": "stream",
          "text": [
            "(10+13j)\n",
            "6.0\n",
            "8.0\n"
          ],
          "name": "stdout"
        }
      ]
    },
    {
      "cell_type": "code",
      "metadata": {
        "id": "dcjNy6mg4wSG",
        "colab_type": "code",
        "colab": {}
      },
      "source": [
        ""
      ],
      "execution_count": 0,
      "outputs": []
    },
    {
      "cell_type": "code",
      "metadata": {
        "id": "aFJ6bH4H4xRl",
        "colab_type": "code",
        "colab": {
          "base_uri": "https://localhost:8080/",
          "height": 68
        },
        "outputId": "eacd8a5d-0fd5-49f9-80f6-08d1539a1d0d"
      },
      "source": [
        "a = int(input(\"Enter the value of a\"))\n",
        "b = int(input(\"Enter the value of b\"))\n",
        "#end-->new line\n",
        "#sep -->space\n",
        "print(a+b,end=\" \")\n",
        "print(a-b,a*b,a/b,sep=\",\")\n"
      ],
      "execution_count": 4,
      "outputs": [
        {
          "output_type": "stream",
          "text": [
            "Enter the value of a10\n",
            "Enter the value of b20\n",
            "30 -10,200,0.5\n"
          ],
          "name": "stdout"
        }
      ]
    },
    {
      "cell_type": "code",
      "metadata": {
        "id": "7hRW4erV7YbV",
        "colab_type": "code",
        "colab": {
          "base_uri": "https://localhost:8080/",
          "height": 170
        },
        "outputId": "94a86282-f631-4f3a-dcd2-954a3f13d61a"
      },
      "source": [
        "#Arithmetic operators:\n",
        "\n",
        "a = int(input(\"enter a value\"))\n",
        "b = int(input(\"enter b value\"))\n",
        "print(a + b)\n",
        "print(a - b)\n",
        "print(a * b)\n",
        "print(a / b)#float quotient\n",
        "print(a % b)#Remainder\n",
        "print(a // b)#int quotient\n",
        "print(a ** b)# 2 5\n"
      ],
      "execution_count": 5,
      "outputs": [
        {
          "output_type": "stream",
          "text": [
            "enter a value10\n",
            "enter b value15\n",
            "25\n",
            "-5\n",
            "150\n",
            "0.6666666666666666\n",
            "10\n",
            "0\n",
            "1000000000000000\n"
          ],
          "name": "stdout"
        }
      ]
    },
    {
      "cell_type": "code",
      "metadata": {
        "id": "ifHkN_dK7l6U",
        "colab_type": "code",
        "colab": {
          "base_uri": "https://localhost:8080/",
          "height": 119
        },
        "outputId": "88a2295a-acc2-4b12-ddcf-8e692bb7ce3f"
      },
      "source": [
        "#Relational operators:\n",
        "print(a < b)#True\n",
        "print(a > b)\n",
        "print(a <= b)\n",
        "print(a >= b)\n",
        "print(a == b)\n",
        "print(a != b)\n"
      ],
      "execution_count": 6,
      "outputs": [
        {
          "output_type": "stream",
          "text": [
            "True\n",
            "False\n",
            "True\n",
            "False\n",
            "False\n",
            "True\n"
          ],
          "name": "stdout"
        }
      ]
    },
    {
      "cell_type": "code",
      "metadata": {
        "id": "ibbsEiYT71xu",
        "colab_type": "code",
        "colab": {
          "base_uri": "https://localhost:8080/",
          "height": 68
        },
        "outputId": "d53535d3-ddb4-45ae-d5ad-b5f6c386ba55"
      },
      "source": [
        "#Logical operators:\n",
        "print(a < b and a>1)\n",
        "print(a < b or a>1)\n",
        "print(not a < b)\n",
        "\n"
      ],
      "execution_count": 7,
      "outputs": [
        {
          "output_type": "stream",
          "text": [
            "True\n",
            "True\n",
            "False\n"
          ],
          "name": "stdout"
        }
      ]
    },
    {
      "cell_type": "code",
      "metadata": {
        "id": "8JOggDUQ754X",
        "colab_type": "code",
        "colab": {
          "base_uri": "https://localhost:8080/",
          "height": 85
        },
        "outputId": "83457f0d-c1dd-4668-883b-8b36a755d388"
      },
      "source": [
        "#Membership operators : checks for the availability of an elements\n",
        "\n",
        "\n",
        "list1 = [12,23,34,45,56,67]\n",
        "print(12 in list1)#True\n",
        "print(120 in list1)#False\n",
        "print(12 not in list1)#False\n",
        "print(120 not in list1)#True\n",
        "\n"
      ],
      "execution_count": 12,
      "outputs": [
        {
          "output_type": "stream",
          "text": [
            "True\n",
            "False\n",
            "False\n",
            "True\n"
          ],
          "name": "stdout"
        }
      ]
    },
    {
      "cell_type": "code",
      "metadata": {
        "id": "m6p2v8JI793E",
        "colab_type": "code",
        "colab": {
          "base_uri": "https://localhost:8080/",
          "height": 34
        },
        "outputId": "87899e66-5e06-42e5-fa97-e6e1b6143753"
      },
      "source": [
        "\n",
        "#Conditional statements:if,else,elif\n",
        "\n",
        "if a < b:\n",
        "    print(\"a is less than b\")\n",
        "elif a > b:\n",
        "    print(\"a is greater than b\")\n",
        "else:\n",
        "    print(\"a or equals to b\")\n"
      ],
      "execution_count": 9,
      "outputs": [
        {
          "output_type": "stream",
          "text": [
            "a is less than b\n"
          ],
          "name": "stdout"
        }
      ]
    },
    {
      "cell_type": "code",
      "metadata": {
        "id": "87tyerhc8D6T",
        "colab_type": "code",
        "colab": {
          "base_uri": "https://localhost:8080/",
          "height": 85
        },
        "outputId": "3e1604d3-b9b5-4b8f-b8f4-36a181bb5b4d"
      },
      "source": [
        "# Find the largest of three numbers:\n",
        "a = int(input(\"enter a value\"))\n",
        "b = int(input(\"enter b value\"))\n",
        "c = int(input(\"enter c value\"))\n",
        "if a>b and a>c:\n",
        "    print(\"largest number is a:\",a)\n",
        "elif b>c:\n",
        "    print(\"largest number is b:\",b)\n",
        "else:\n",
        "    print(\"largest number is c:\",c)\n",
        "\n"
      ],
      "execution_count": 10,
      "outputs": [
        {
          "output_type": "stream",
          "text": [
            "enter a value5\n",
            "enter b value8\n",
            "enter c value6\n",
            "largest number is b: 8\n"
          ],
          "name": "stdout"
        }
      ]
    },
    {
      "cell_type": "code",
      "metadata": {
        "id": "E29GRPVB8gAp",
        "colab_type": "code",
        "colab": {
          "base_uri": "https://localhost:8080/",
          "height": 51
        },
        "outputId": "ad0d4bda-af22-427b-b2b4-ca4828cc19d6"
      },
      "source": [
        "#Loops : while,for\n",
        "#Program to  print 1 to n values\n",
        "n = int(input(\"enter n value\"))\n",
        "i = 1\n",
        "while i<=n:\n",
        "    print(i,end=\" \")\n",
        "    i += 1#i=i+1\n"
      ],
      "execution_count": 13,
      "outputs": [
        {
          "output_type": "stream",
          "text": [
            "enter n value8\n",
            "1 2 3 4 5 6 7 8 "
          ],
          "name": "stdout"
        }
      ]
    },
    {
      "cell_type": "code",
      "metadata": {
        "id": "J91DuWVA93LZ",
        "colab_type": "code",
        "colab": {
          "base_uri": "https://localhost:8080/",
          "height": 204
        },
        "outputId": "27541ca8-98b1-4cb2-9963-b6c2311fcb04"
      },
      "source": [
        "#Program to  print sum of 1 to n values\n",
        "n = int(input(\"enter n value\"))\n",
        "i = 1\n",
        "S = 0\n",
        "while i<=n:\n",
        "    S += i\n",
        "    i += 1#i=i+1\n",
        "    print(S)\n",
        "\n"
      ],
      "execution_count": 16,
      "outputs": [
        {
          "output_type": "stream",
          "text": [
            "enter n value10\n",
            "1\n",
            "3\n",
            "6\n",
            "10\n",
            "15\n",
            "21\n",
            "28\n",
            "36\n",
            "45\n",
            "55\n"
          ],
          "name": "stdout"
        }
      ]
    },
    {
      "cell_type": "code",
      "metadata": {
        "id": "1EpIEQMx-FrS",
        "colab_type": "code",
        "colab": {}
      },
      "source": [
        ""
      ],
      "execution_count": 0,
      "outputs": []
    }
  ]
}