{
  "nbformat": 4,
  "nbformat_minor": 0,
  "metadata": {
    "colab": {
      "name": "assignment 1(27-05-20)",
      "provenance": [],
      "authorship_tag": "ABX9TyNvB5KSYNwUCBJE83zKzVau",
      "include_colab_link": true
    },
    "kernelspec": {
      "name": "python3",
      "display_name": "Python 3"
    }
  },
  "cells": [
    {
      "cell_type": "markdown",
      "metadata": {
        "id": "view-in-github",
        "colab_type": "text"
      },
      "source": [
        "<a href=\"https://colab.research.google.com/github/Aniketh821/Adv-prog/blob/master/assignment_1(27_05_20).ipynb\" target=\"_parent\"><img src=\"https://colab.research.google.com/assets/colab-badge.svg\" alt=\"Open In Colab\"/></a>"
      ]
    },
    {
      "cell_type": "code",
      "metadata": {
        "id": "fbd7zktoOUhw",
        "colab_type": "code",
        "outputId": "542cff37-aed8-4baa-f513-464cdc574add",
        "colab": {
          "base_uri": "https://localhost:8080/",
          "height": 187
        }
      },
      "source": [
        "# 1.Generating the following pattern\n",
        "\n",
        "for i in range(1,6):\n",
        "\tfor j in range(1,i+1):\n",
        "\t\tprint(\"*\",end=\" \")\n",
        "\tprint(\"\\n\")"
      ],
      "execution_count": 0,
      "outputs": [
        {
          "output_type": "stream",
          "text": [
            "* \n",
            "\n",
            "* * \n",
            "\n",
            "* * * \n",
            "\n",
            "* * * * \n",
            "\n",
            "* * * * * \n",
            "\n"
          ],
          "name": "stdout"
        }
      ]
    },
    {
      "cell_type": "markdown",
      "metadata": {
        "id": "Tkmzwjf6_V5f",
        "colab_type": "text"
      },
      "source": [
        ""
      ]
    },
    {
      "cell_type": "code",
      "metadata": {
        "id": "je20984qOWZJ",
        "colab_type": "code",
        "outputId": "2f29e3d8-7622-4948-882c-92307c77346a",
        "colab": {
          "base_uri": "https://localhost:8080/",
          "height": 204
        }
      },
      "source": [
        "#2. Display multiplicationtable of k. Take k value from user\n",
        "# Ex: 7*1=7\n",
        "#     7*2=14 ......\n",
        "\n",
        "\n",
        "k = int(input(\"enter value of k:\"))\n",
        "for i in range(1,11):\n",
        "\tprint(k,\"*\",i,\"=\",k*i)"
      ],
      "execution_count": 7,
      "outputs": [
        {
          "output_type": "stream",
          "text": [
            "enter value of k:7\n",
            "7 * 1 = 7\n",
            "7 * 2 = 14\n",
            "7 * 3 = 21\n",
            "7 * 4 = 28\n",
            "7 * 5 = 35\n",
            "7 * 6 = 42\n",
            "7 * 7 = 49\n",
            "7 * 8 = 56\n",
            "7 * 9 = 63\n",
            "7 * 10 = 70\n"
          ],
          "name": "stdout"
        }
      ]
    },
    {
      "cell_type": "code",
      "metadata": {
        "id": "lLb2kE8sOoXg",
        "colab_type": "code",
        "colab": {
          "base_uri": "https://localhost:8080/",
          "height": 51
        },
        "outputId": "a1922d74-b1f7-4828-e270-f323af4c0103"
      },
      "source": [
        "# 4. Convert a decimal number to binary\n",
        "\n",
        "x = int(input(\"enter x value\"))\n",
        "print(bin(x))"
      ],
      "execution_count": 8,
      "outputs": [
        {
          "output_type": "stream",
          "text": [
            "enter x value23\n",
            "0b10111\n"
          ],
          "name": "stdout"
        }
      ]
    },
    {
      "cell_type": "code",
      "metadata": {
        "id": "SOBuXXOO-J5E",
        "colab_type": "code",
        "colab": {
          "base_uri": "https://localhost:8080/",
          "height": 51
        },
        "outputId": "c02a83e1-f169-4a14-fb92-9a7df47c04d5"
      },
      "source": [
        "# 5. generate first N numbers of Fibonacci numbers\n",
        "\n",
        "\n",
        "n=int(input(\"enter the value of n\"))\n",
        "n1=0\n",
        "n2=1\n",
        "if n<=0:\n",
        "  print(\"the series is\",n)\n",
        "else:\n",
        "  print(n1,n2,end =\" \")\n",
        "  for i in range(2,n):\n",
        "    next =n1+n2\n",
        "    print(next,end=\" \")\n",
        "    n1=n2\n",
        "    n2=next"
      ],
      "execution_count": 6,
      "outputs": [
        {
          "output_type": "stream",
          "text": [
            "enter the value of n8\n",
            "0 1 1 2 3 5 8 13 "
          ],
          "name": "stdout"
        }
      ]
    },
    {
      "cell_type": "code",
      "metadata": {
        "id": "-joZI3bxCUUb",
        "colab_type": "code",
        "colab": {
          "base_uri": "https://localhost:8080/",
          "height": 85
        },
        "outputId": "d8d44718-bac4-44e6-f1cd-7405334c75aa"
      },
      "source": [
        "# 3. Roots of quadriatic equation\n",
        "import cmath\n",
        "a=int(input(\"enter a value\"))\n",
        "b=int(input(\"enter b value\"))\n",
        "c=int(input(\"enter c value\"))\n",
        "d=(b*b-4*a*c)\n",
        "if d>0:\n",
        "  r1 = -b+math.sqrt(d)/2*a\n",
        "  r1 = -b-math.sqrt(d)/2*a\n",
        "  print(r1,\"\\n\",r2)\n",
        "elif d<0:\n",
        "  r3=complex(-b+cmath.sqrt(d)/2*a)\n",
        "  r4=complex(-b-cmath.sqrt(d)/2*a)\n",
        "  print(r3,\" and \",r4)\n",
        "elif d==0:\n",
        "  r=(-b)/(2*a)\n",
        "  print(r)"
      ],
      "execution_count": 11,
      "outputs": [
        {
          "output_type": "stream",
          "text": [
            "enter a value3\n",
            "enter b value2\n",
            "enter c value1\n",
            "(-2+4.242640687119286j)  and  (-2-4.242640687119286j)\n"
          ],
          "name": "stdout"
        }
      ]
    },
    {
      "cell_type": "code",
      "metadata": {
        "id": "u_POED4zEKRW",
        "colab_type": "code",
        "colab": {}
      },
      "source": [
        "}"
      ],
      "execution_count": 0,
      "outputs": []
    }
  ]
}