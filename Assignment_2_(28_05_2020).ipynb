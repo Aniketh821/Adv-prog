{
  "nbformat": 4,
  "nbformat_minor": 0,
  "metadata": {
    "colab": {
      "name": "Assignment 2 (28-05-2020)",
      "provenance": [],
      "authorship_tag": "ABX9TyOzY9rHUFMlpZ3WXlOADtF5",
      "include_colab_link": true
    },
    "kernelspec": {
      "name": "python3",
      "display_name": "Python 3"
    }
  },
  "cells": [
    {
      "cell_type": "markdown",
      "metadata": {
        "id": "view-in-github",
        "colab_type": "text"
      },
      "source": [
        "<a href=\"https://colab.research.google.com/github/Aniketh821/Adv-prog/blob/master/Assignment_2_(28_05_2020).ipynb\" target=\"_parent\"><img src=\"https://colab.research.google.com/assets/colab-badge.svg\" alt=\"Open In Colab\"/></a>"
      ]
    },
    {
      "cell_type": "markdown",
      "metadata": {
        "id": "WGdS4OPh9R13",
        "colab_type": "text"
      },
      "source": [
        "# CSE- 221710311009-C.ANIKETH"
      ]
    },
    {
      "cell_type": "markdown",
      "metadata": {
        "id": "TC75Gf2c9xjb",
        "colab_type": "text"
      },
      "source": [
        "#Question 1:\n",
        "Accept a string from the user and count no.of vowels,consonants and special characters"
      ]
    },
    {
      "cell_type": "code",
      "metadata": {
        "id": "GVquTdnJ-Ht7",
        "colab_type": "code",
        "outputId": "539a4df2-a1a2-4081-deea-16513390868e",
        "colab": {
          "base_uri": "https://localhost:8080/",
          "height": 85
        }
      },
      "source": [
        "str=input(\"enter a string\")\n",
        "vowels=0\n",
        "conso=0\n",
        "sc=0\n",
        "str=str.lower()\n",
        "for i in range(0,len(str)):\n",
        "  if str[i]=='a' or str[i]=='e' or str[i]=='i' or str[i]=='o' or str[i]=='u':\n",
        "    vowels=vowels+1\n",
        "  elif str[i]>='a' and str[i]<='z':\n",
        "    conso=conso+1\n",
        "  else:\n",
        "    sc=sc+1\n",
        "print(vowels)\n",
        "print(conso)\n",
        "print(sc)\n"
      ],
      "execution_count": 0,
      "outputs": [
        {
          "output_type": "stream",
          "text": [
            "enter a stringhello!\n",
            "2\n",
            "3\n",
            "1\n"
          ],
          "name": "stdout"
        }
      ]
    },
    {
      "cell_type": "markdown",
      "metadata": {
        "id": "GTwdoKlr-JU4",
        "colab_type": "text"
      },
      "source": [
        "#Question 2:\n",
        "count the no.of pairs of a in the given string(Infosys InfyTQ)\n",
        "    string →  \"abbaaccbbaaa\"\n",
        "    output →  2\n"
      ]
    },
    {
      "cell_type": "code",
      "metadata": {
        "id": "al4E2rCZ-VA9",
        "colab_type": "code",
        "outputId": "1f88c7be-bb25-45a4-bd90-e62b1d54f587",
        "colab": {
          "base_uri": "https://localhost:8080/",
          "height": 51
        }
      },
      "source": [
        "s=input(\"enter a string\")\n",
        "s.count(\"aa\")"
      ],
      "execution_count": 0,
      "outputs": [
        {
          "output_type": "stream",
          "text": [
            "enter a stringabbaaccbbaaa\n"
          ],
          "name": "stdout"
        },
        {
          "output_type": "execute_result",
          "data": {
            "text/plain": [
              "2"
            ]
          },
          "metadata": {
            "tags": []
          },
          "execution_count": 4
        }
      ]
    },
    {
      "cell_type": "markdown",
      "metadata": {
        "id": "a73omDIo-Wi8",
        "colab_type": "text"
      },
      "source": [
        "#Question 3:\n",
        "    Test case1:\n",
        "        string →  \"((((()()()))))()\"\n",
        "        output →  8\n",
        "    Test case2:\n",
        "        string →  \"((()))()\"\n",
        "        Output →  4\n"
      ]
    },
    {
      "cell_type": "code",
      "metadata": {
        "id": "DJGcDHvv_B-g",
        "colab_type": "code",
        "outputId": "840f9a41-3ba5-4942-e94b-6ec27bb9f48f",
        "colab": {
          "base_uri": "https://localhost:8080/",
          "height": 51
        }
      },
      "source": [
        "str=input(\"enter a string\")\n",
        "a=0\n",
        "b=0\n",
        "for i in range(0,len(str)):\n",
        "  if str[i] == ')':\n",
        "    a=a+1\n",
        "  else:\n",
        "    b=b+1\n",
        "if a<=b:\n",
        "  print(a)\n",
        "elif b<=a:\n",
        "  print(b)"
      ],
      "execution_count": 0,
      "outputs": [
        {
          "output_type": "stream",
          "text": [
            "enter a string((()))()\n",
            "4\n"
          ],
          "name": "stdout"
        }
      ]
    },
    {
      "cell_type": "markdown",
      "metadata": {
        "id": "Ar3CC-rM_Dn1",
        "colab_type": "text"
      },
      "source": [
        "#Question 4:\n",
        "Read the input as two limits and Print the output as Palindrome count between the two limits\n",
        "Example #1; Input : 1 10 Output : 9\n",
        " Example #2: Input : 1 100 Output : 18\n"
      ]
    },
    {
      "cell_type": "code",
      "metadata": {
        "id": "HrS6kga__NqU",
        "colab_type": "code",
        "outputId": "84209261-0f92-4ce5-e294-d1a032a19aaa",
        "colab": {
          "base_uri": "https://localhost:8080/",
          "height": 68
        }
      },
      "source": [
        "a=int(input(\"enter a number a\"))\n",
        "b=int(input(\"enter a number b\"))\n",
        "count=0\n",
        "\n",
        "for i in range(a,b):\n",
        "  rev=0\n",
        "  temp=i\n",
        "  while(i>0):\n",
        "    r=i%10\n",
        "    rev=rev*10 + r\n",
        "    i=i//10\n",
        "  if(temp == rev):\n",
        "    count=count+1\n",
        "print(count)"
      ],
      "execution_count": 0,
      "outputs": [
        {
          "output_type": "stream",
          "text": [
            "enter a number a1\n",
            "enter a number b100\n",
            "18\n"
          ],
          "name": "stdout"
        }
      ]
    },
    {
      "cell_type": "markdown",
      "metadata": {
        "id": "1NdkwCwp_OR8",
        "colab_type": "text"
      },
      "source": [
        "#Question 5:\n",
        "\n",
        " Accept a number as an input and check whether the given number is palindrome or not\n",
        "■\tif it is a palindrome number print the number on the screen\n",
        "■\tif it is not a palindrome number reverse that number and add it to previous number repeat this until will get a palindrome number and print that palindrome number on the screen\n",
        "input: 127\n",
        "output: 848\n"
      ]
    },
    {
      "cell_type": "code",
      "metadata": {
        "id": "pgBQeW1j_WXL",
        "colab_type": "code",
        "outputId": "bf1ddc98-e152-4afa-b14d-1c3a4f862bd2",
        "colab": {
          "base_uri": "https://localhost:8080/",
          "height": 51
        }
      },
      "source": [
        "def procedure(rev,temp):\n",
        "  n=rev+temp\n",
        "  palindrome(n)\n",
        "\n",
        "def palindrome(n):\n",
        "  temp=n\n",
        "  rev=0\n",
        "  while n>0:\n",
        "    r=n%10\n",
        "    rev=rev*10+r\n",
        "    n=n//10\n",
        "  if(temp == rev):\n",
        "    print(rev)\n",
        "  else:\n",
        "    procedure(rev,temp) \n",
        "n=int(input(\"enter a number\"))\n",
        "palindrome(n) "
      ],
      "execution_count": 0,
      "outputs": [
        {
          "output_type": "stream",
          "text": [
            "enter a number127\n",
            "848\n"
          ],
          "name": "stdout"
        }
      ]
    },
    {
      "cell_type": "markdown",
      "metadata": {
        "id": "yyyrz8BT_W14",
        "colab_type": "text"
      },
      "source": [
        "#Question 6:\n",
        "input:orange  →   output : puboif\n"
      ]
    },
    {
      "cell_type": "code",
      "metadata": {
        "id": "q8DaBPYR_b2X",
        "colab_type": "code",
        "colab": {
          "base_uri": "https://localhost:8080/",
          "height": 51
        },
        "outputId": "0f62cd16-ec9e-45ab-8eee-d33bdaa3377e"
      },
      "source": [
        "s = input(\"enter a string:\")\n",
        "s=s.lower()\n",
        "for i in range(0,len(s)):\n",
        "  if s[i] in ('a','e','i','o','u','n'):\n",
        "    print(chr(ord(s[i])+1),end=\"\")\n",
        "  elif s[i] in ('g'):\n",
        "    print(chr(ord(s[i])+2),end=\"\")\n",
        "  else:\n",
        "    print(chr(ord(s[i])+3),end=\"\")\n",
        "    "
      ],
      "execution_count": 3,
      "outputs": [
        {
          "output_type": "stream",
          "text": [
            "enter a string:orange\n",
            "puboif"
          ],
          "name": "stdout"
        }
      ]
    },
    {
      "cell_type": "markdown",
      "metadata": {
        "id": "KjhSr-7b_cad",
        "colab_type": "text"
      },
      "source": [
        "#Question 7:\n",
        "Accept input as a string and display sum of digits as the output \n",
        "input:Appli123cation456 \n",
        "Output: 21\n"
      ]
    },
    {
      "cell_type": "code",
      "metadata": {
        "id": "UmGPX9Hf_gcH",
        "colab_type": "code",
        "outputId": "480e099b-961c-4ada-ab1f-4eba454d75d1",
        "colab": {
          "base_uri": "https://localhost:8080/",
          "height": 51
        }
      },
      "source": [
        "s=input(\"enter a string\")\n",
        "sum=0\n",
        "for i in s:\n",
        "  if i.isdigit() == True:\n",
        "    z=int(i)\n",
        "    sum=sum+z\n",
        "print(sum)    \n"
      ],
      "execution_count": 0,
      "outputs": [
        {
          "output_type": "stream",
          "text": [
            "enter a stringAppli123cation456\n",
            "21\n"
          ],
          "name": "stdout"
        }
      ]
    },
    {
      "cell_type": "markdown",
      "metadata": {
        "id": "QuFVlXYH_hGz",
        "colab_type": "text"
      },
      "source": [
        "# Question 8:\n",
        "Write a program to prompt for a score between 0.0 and 1.0. If the score is out of range, print an error. If the score is between 0.0 and 1.0, print a grade using the following table:\n",
        "Score Grade\n",
        ">= 0.9 A\n",
        ">= 0.8 B\n",
        ">= 0.7 C\n",
        ">= 0.6 D\n",
        "< 0.6 F\n",
        "If the user enters a value out of range, print a suitable error message and exit. For the test, enter a score of 0.85\n"
      ]
    },
    {
      "cell_type": "code",
      "metadata": {
        "id": "Hg0xV2K9_lLF",
        "colab_type": "code",
        "outputId": "705728dc-fbf4-4325-c9b4-56c7736b2a1e",
        "colab": {
          "base_uri": "https://localhost:8080/",
          "height": 51
        }
      },
      "source": [
        "score=float(input(\"enter the score\"))\n",
        "if score < 0.0 or score > 1.0:\n",
        "  print(\"error\")\n",
        "elif score >=0.9:\n",
        "  print(\"A\")\n",
        "elif score >=0.8:\n",
        "  print(\"B\")\n",
        "elif score >= 0.7:\n",
        "  print(\"C\")\n",
        "elif score >= 0.6:\n",
        "  print(\"D\")\n",
        "else:\n",
        "  print(\"F\")"
      ],
      "execution_count": 0,
      "outputs": [
        {
          "output_type": "stream",
          "text": [
            "enter the score0.85\n",
            "B\n"
          ],
          "name": "stdout"
        }
      ]
    },
    {
      "cell_type": "markdown",
      "metadata": {
        "id": "wAwu24lV_nP-",
        "colab_type": "text"
      },
      "source": [
        "#Question 9:\n",
        "Write a Python program which iterates the integers from 1 to 50. For multiples of three print \"Fizz\" instead of the number and for the multiples of five print \"Buzz\". For numbers which are multiples of both three and five print \"FizzBuzz\".\n",
        "Sample Output :\n",
        "fizzbuzz\n",
        "1\n",
        "2\n",
        "fizz\n",
        "4\n",
        "buzz\n"
      ]
    },
    {
      "cell_type": "code",
      "metadata": {
        "id": "zuDLVfdt_tFj",
        "colab_type": "code",
        "outputId": "84b58b95-3288-4d52-812e-caf5b920662f",
        "colab": {
          "base_uri": "https://localhost:8080/",
          "height": 1000
        }
      },
      "source": [
        "for i in range(1,51):\n",
        "  if i%3==0 and i%5==0:\n",
        "    print(\"FizzBuzz\")\n",
        "  elif i%3 == 0:\n",
        "    print(\"Fizz\")\n",
        "  elif i%5 == 0:\n",
        "    print(\"Buzz\")\n",
        "  print(i)"
      ],
      "execution_count": 0,
      "outputs": [
        {
          "output_type": "stream",
          "text": [
            "1\n",
            "2\n",
            "Fizz\n",
            "3\n",
            "4\n",
            "Buzz\n",
            "5\n",
            "Fizz\n",
            "6\n",
            "7\n",
            "8\n",
            "Fizz\n",
            "9\n",
            "Buzz\n",
            "10\n",
            "11\n",
            "Fizz\n",
            "12\n",
            "13\n",
            "14\n",
            "FizzBuzz\n",
            "15\n",
            "16\n",
            "17\n",
            "Fizz\n",
            "18\n",
            "19\n",
            "Buzz\n",
            "20\n",
            "Fizz\n",
            "21\n",
            "22\n",
            "23\n",
            "Fizz\n",
            "24\n",
            "Buzz\n",
            "25\n",
            "26\n",
            "Fizz\n",
            "27\n",
            "28\n",
            "29\n",
            "FizzBuzz\n",
            "30\n",
            "31\n",
            "32\n",
            "Fizz\n",
            "33\n",
            "34\n",
            "Buzz\n",
            "35\n",
            "Fizz\n",
            "36\n",
            "37\n",
            "38\n",
            "Fizz\n",
            "39\n",
            "Buzz\n",
            "40\n",
            "41\n",
            "Fizz\n",
            "42\n",
            "43\n",
            "44\n",
            "FizzBuzz\n",
            "45\n",
            "46\n",
            "47\n",
            "Fizz\n",
            "48\n",
            "49\n",
            "Buzz\n",
            "50\n"
          ],
          "name": "stdout"
        }
      ]
    },
    {
      "cell_type": "markdown",
      "metadata": {
        "id": "LKHPqIUx_vFP",
        "colab_type": "text"
      },
      "source": [
        "#Question 10:\n",
        "Write a Python program to find the median of three values.\n",
        "Expected Output:\n",
        "Input first number: 26                                            \n",
        "Input second number: 15                                                \n",
        "Input third number: 29                                                  \n",
        "The median is 26\n"
      ]
    },
    {
      "cell_type": "code",
      "metadata": {
        "id": "FQnMBNv8_y3h",
        "colab_type": "code",
        "outputId": "c55122c6-75fd-4c94-95f6-01f7e873e711",
        "colab": {
          "base_uri": "https://localhost:8080/",
          "height": 102
        }
      },
      "source": [
        "x = input(\"Input the first number\")\n",
        "y = input(\"Input the second number\")\n",
        "z = input(\"Input the third number\")\n",
        "print(\"Median of the above three numbers -\")\n",
        "\n",
        "if y < x and x < z:\n",
        "    print(x)\n",
        "elif z < x and x < y:\n",
        "    print(x)\n",
        "    \n",
        "elif z < y and y < x:\n",
        "    print(y)\n",
        "elif x < y and y < z:\n",
        "    print(y)\n",
        "    \n",
        "elif y < z and z < x:\n",
        "    print(z)    \n",
        "elif x < z and z < y:\n",
        "    print(z)"
      ],
      "execution_count": 0,
      "outputs": [
        {
          "output_type": "stream",
          "text": [
            "Input the first number26\n",
            "Input the second number15\n",
            "Input the third number29\n",
            "Median of the above three numbers -\n",
            "26\n"
          ],
          "name": "stdout"
        }
      ]
    },
    {
      "cell_type": "code",
      "metadata": {
        "id": "AYgQSyObAf2A",
        "colab_type": "code",
        "colab": {}
      },
      "source": [
        ""
      ],
      "execution_count": 0,
      "outputs": []
    }
  ]
}