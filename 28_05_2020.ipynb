{
  "nbformat": 4,
  "nbformat_minor": 0,
  "metadata": {
    "colab": {
      "name": "28-05-2020.ipynb",
      "provenance": [],
      "authorship_tag": "ABX9TyOVHnahWAZYJ/piRmP5nfuT",
      "include_colab_link": true
    },
    "kernelspec": {
      "name": "python3",
      "display_name": "Python 3"
    }
  },
  "cells": [
    {
      "cell_type": "markdown",
      "metadata": {
        "id": "view-in-github",
        "colab_type": "text"
      },
      "source": [
        "<a href=\"https://colab.research.google.com/github/Aniketh821/Adv-prog/blob/master/28_05_2020.ipynb\" target=\"_parent\"><img src=\"https://colab.research.google.com/assets/colab-badge.svg\" alt=\"Open In Colab\"/></a>"
      ]
    },
    {
      "cell_type": "code",
      "metadata": {
        "id": "UrAWnCXMYLeP",
        "colab_type": "code",
        "colab": {
          "base_uri": "https://localhost:8080/",
          "height": 34
        },
        "outputId": "4bfb1f37-6cdf-43a4-b51b-a3aa443b5fb0"
      },
      "source": [
        "s1 = \"Hello\"\n",
        "s2 = 'good afternoon'\n",
        "print(type(s1),type(s2))"
      ],
      "execution_count": 1,
      "outputs": [
        {
          "output_type": "stream",
          "text": [
            "<class 'str'> <class 'str'>\n"
          ],
          "name": "stdout"
        }
      ]
    },
    {
      "cell_type": "code",
      "metadata": {
        "id": "la4e6X5Obgpc",
        "colab_type": "code",
        "colab": {
          "base_uri": "https://localhost:8080/",
          "height": 51
        },
        "outputId": "06a249c0-5609-4edc-b883-e7a935712e6d"
      },
      "source": [
        "s1 = input(\"enter a string: \")\n",
        "s2 = 'good afternoon'\n",
        "print(type(s1),type(s2))"
      ],
      "execution_count": 3,
      "outputs": [
        {
          "output_type": "stream",
          "text": [
            "enter a string: hello\n",
            "<class 'str'> <class 'str'>\n"
          ],
          "name": "stdout"
        }
      ]
    },
    {
      "cell_type": "code",
      "metadata": {
        "id": "iG5m5o76cAXU",
        "colab_type": "code",
        "colab": {
          "base_uri": "https://localhost:8080/",
          "height": 102
        },
        "outputId": "08249c6c-a673-48c6-dfba-e4cc3279a1c9"
      },
      "source": [
        "#operators: +,*(repetitation),[](slice),[:](slice range),in, not in\n",
        "print(s1+s2)#concatenation\n",
        "print(s1*3)#repetation\n",
        "print(s1[4])\n",
        "print(s1[-1])\n",
        "print(s1[2:])\n",
        "\n"
      ],
      "execution_count": 7,
      "outputs": [
        {
          "output_type": "stream",
          "text": [
            "hellogood afternoon\n",
            "hellohellohello\n",
            "o\n",
            "o\n",
            "llo\n"
          ],
          "name": "stdout"
        }
      ]
    },
    {
      "cell_type": "code",
      "metadata": {
        "id": "nmsKwwBHclbi",
        "colab_type": "code",
        "colab": {
          "base_uri": "https://localhost:8080/",
          "height": 51
        },
        "outputId": "799a786d-5522-4736-95bc-473da98f636f"
      },
      "source": [
        "print(s1[:])\n",
        "print(s1[0:5])"
      ],
      "execution_count": 9,
      "outputs": [
        {
          "output_type": "stream",
          "text": [
            "hello\n",
            "hello\n"
          ],
          "name": "stdout"
        }
      ]
    },
    {
      "cell_type": "code",
      "metadata": {
        "id": "rbGhvgITftY4",
        "colab_type": "code",
        "colab": {
          "base_uri": "https://localhost:8080/",
          "height": 51
        },
        "outputId": "09c0fbe2-bf44-461b-ea86-4e123377081f"
      },
      "source": [
        "# alternate characters of string\n",
        "print(s1[0:5:2])\n",
        "print(s1[::2])"
      ],
      "execution_count": 11,
      "outputs": [
        {
          "output_type": "stream",
          "text": [
            "hlo\n",
            "hlo\n"
          ],
          "name": "stdout"
        }
      ]
    },
    {
      "cell_type": "code",
      "metadata": {
        "id": "rQ-hSBFzgEnr",
        "colab_type": "code",
        "colab": {
          "base_uri": "https://localhost:8080/",
          "height": 51
        },
        "outputId": "7e7d1a2a-18d6-41e5-b8fc-be9a0a7d760c"
      },
      "source": [
        "#Accept a string from user and check it is palindrome or not\n",
        "s3=input(\"enter a string\")\n",
        "if s3 == s3[::-1]:\n",
        "  print(\"The given string is plaindrome\")\n",
        "else:\n",
        "  print(\"the given string is not a a palindrome\")"
      ],
      "execution_count": 17,
      "outputs": [
        {
          "output_type": "stream",
          "text": [
            "enter a stringabc\n",
            "the given string is not a a palindrome\n"
          ],
          "name": "stdout"
        }
      ]
    },
    {
      "cell_type": "code",
      "metadata": {
        "id": "oz1HlFgCgoA_",
        "colab_type": "code",
        "colab": {
          "base_uri": "https://localhost:8080/",
          "height": 51
        },
        "outputId": "b2d55f15-79ec-4bfb-e704-37444184acfc"
      },
      "source": [
        "#Check wheather given number is plaindrome or not\n",
        "n= int(input(\"enter a number\"))\n",
        "if str(n) == str(n)[::-1]:\n",
        "    print(\"The given number is plaindrome\")\n",
        "else:\n",
        "    print(\"The given number is not a  plaindrome\")\n"
      ],
      "execution_count": 18,
      "outputs": [
        {
          "output_type": "stream",
          "text": [
            "enter a number121\n",
            "The given number is plaindrome\n"
          ],
          "name": "stdout"
        }
      ]
    },
    {
      "cell_type": "code",
      "metadata": {
        "id": "IPwvcKUuiLqO",
        "colab_type": "code",
        "colab": {
          "base_uri": "https://localhost:8080/",
          "height": 85
        },
        "outputId": "b769d64b-1e1e-4c71-ced7-6c28a2641ba8"
      },
      "source": [
        "s4=\"python\"\n",
        "print(\"on\" in s4)\n",
        "print(\"xv\" in s4)\n",
        "print(\"on\" not in s4)\n",
        "print(\"xv\" not in s4)"
      ],
      "execution_count": 23,
      "outputs": [
        {
          "output_type": "stream",
          "text": [
            "True\n",
            "False\n",
            "False\n",
            "True\n"
          ],
          "name": "stdout"
        }
      ]
    },
    {
      "cell_type": "code",
      "metadata": {
        "id": "expT1JMcjEnC",
        "colab_type": "code",
        "colab": {
          "base_uri": "https://localhost:8080/",
          "height": 102
        },
        "outputId": "3a195a82-c1cd-449c-b5a1-72235fb7074b"
      },
      "source": [
        "# String built-in functions:len(),min(),max(),str()\n",
        "s=\"hello\"\n",
        "s1=\"abc123\"\n",
        "print(len(s))\n",
        "print(max(s))\n",
        "print(min(s))\n",
        "print(max(s1))\n",
        "print(min(s1))"
      ],
      "execution_count": 27,
      "outputs": [
        {
          "output_type": "stream",
          "text": [
            "5\n",
            "o\n",
            "e\n",
            "c\n",
            "1\n"
          ],
          "name": "stdout"
        }
      ]
    },
    {
      "cell_type": "code",
      "metadata": {
        "id": "Xf9WTTthkPJu",
        "colab_type": "code",
        "colab": {
          "base_uri": "https://localhost:8080/",
          "height": 34
        },
        "outputId": "3a9ab19a-87ef-4ca9-a44f-248a85c18f96"
      },
      "source": [
        "ord('a')"
      ],
      "execution_count": 28,
      "outputs": [
        {
          "output_type": "execute_result",
          "data": {
            "text/plain": [
              "97"
            ]
          },
          "metadata": {
            "tags": []
          },
          "execution_count": 28
        }
      ]
    },
    {
      "cell_type": "code",
      "metadata": {
        "id": "HN92giVilFw_",
        "colab_type": "code",
        "colab": {
          "base_uri": "https://localhost:8080/",
          "height": 34
        },
        "outputId": "e765bd87-c77f-47a2-c626-4cca9d936f98"
      },
      "source": [
        "chr(97)"
      ],
      "execution_count": 29,
      "outputs": [
        {
          "output_type": "execute_result",
          "data": {
            "text/plain": [
              "'a'"
            ]
          },
          "metadata": {
            "tags": []
          },
          "execution_count": 29
        }
      ]
    },
    {
      "cell_type": "code",
      "metadata": {
        "id": "Ihl2dL2qlKyV",
        "colab_type": "code",
        "colab": {}
      },
      "source": [
        ""
      ],
      "execution_count": 0,
      "outputs": []
    },
    {
      "cell_type": "markdown",
      "metadata": {
        "id": "JFA7dNPKl0A6",
        "colab_type": "text"
      },
      "source": [
        "### Built-in Method:\n",
        "1. capitalize()\n",
        "2. isaplha()\n",
        "3. isdigit()\n",
        "4. isalnum()\n",
        "5. isupper()\n",
        "6. islower()"
      ]
    },
    {
      "cell_type": "code",
      "metadata": {
        "id": "uUXCAzEgmPTx",
        "colab_type": "code",
        "colab": {
          "base_uri": "https://localhost:8080/",
          "height": 68
        },
        "outputId": "42cdd7a2-1eef-48cf-a415-35821f9c6b02"
      },
      "source": [
        "s=\"hello\"\n",
        "print(len(s))\n",
        "print(s.capitalize())\n",
        "print(s)"
      ],
      "execution_count": 31,
      "outputs": [
        {
          "output_type": "stream",
          "text": [
            "5\n",
            "Hello\n",
            "hello\n"
          ],
          "name": "stdout"
        }
      ]
    },
    {
      "cell_type": "code",
      "metadata": {
        "id": "juKHgo7YnK4j",
        "colab_type": "code",
        "colab": {
          "base_uri": "https://localhost:8080/",
          "height": 51
        },
        "outputId": "174d8bed-f9c5-43dc-ec39-db4d4f2306d6"
      },
      "source": [
        "s=\"hello\"\n",
        "print(len(s))\n",
        "s=s.capitalize()\n",
        "print(s)"
      ],
      "execution_count": 32,
      "outputs": [
        {
          "output_type": "stream",
          "text": [
            "5\n",
            "Hello\n"
          ],
          "name": "stdout"
        }
      ]
    },
    {
      "cell_type": "code",
      "metadata": {
        "id": "n35JFGJpnnfx",
        "colab_type": "code",
        "colab": {
          "base_uri": "https://localhost:8080/",
          "height": 187
        },
        "outputId": "4c9ca124-7088-467a-b5df-30927c71b865"
      },
      "source": [
        "s1 = \"hello\"\n",
        "s2=  \"abc123\"\n",
        "s3 = \"123\"\n",
        "print(s1.isalpha())\n",
        "print(s1.isdigit)\n",
        "print(s1.isalnum())\n",
        "print(s2.isalpha())\n",
        "print(s2.isdigit)\n",
        "print(s2.isalnum())\n",
        "print(s3.isalpha())\n",
        "print(s3.isdigit)\n",
        "print(s3.isalnum())\n",
        "\n",
        "\n",
        "\n",
        "\n",
        "\n",
        "print(s1.isalnum())"
      ],
      "execution_count": 35,
      "outputs": [
        {
          "output_type": "stream",
          "text": [
            "True\n",
            "<built-in method isdigit of str object at 0x7fd262900dc0>\n",
            "True\n",
            "False\n",
            "<built-in method isdigit of str object at 0x7fd2628339d0>\n",
            "True\n",
            "False\n",
            "<built-in method isdigit of str object at 0x7fd262833c70>\n",
            "True\n",
            "True\n"
          ],
          "name": "stdout"
        }
      ]
    },
    {
      "cell_type": "code",
      "metadata": {
        "id": "05YkzIdrpCRY",
        "colab_type": "code",
        "colab": {
          "base_uri": "https://localhost:8080/",
          "height": 85
        },
        "outputId": "78933363-0504-4591-9672-1e11c131c8b5"
      },
      "source": [
        "s1=\"python\"\n",
        "s2=\"PYTHON\"\n",
        "print(s1.isupper())#false\n",
        "print(s2.isupper())#True\n",
        "print(s1.islower())#true\n",
        "print(s2.islower())#False"
      ],
      "execution_count": 40,
      "outputs": [
        {
          "output_type": "stream",
          "text": [
            "False\n",
            "True\n",
            "True\n",
            "False\n"
          ],
          "name": "stdout"
        }
      ]
    },
    {
      "cell_type": "code",
      "metadata": {
        "id": "7AvBRPYbq4OT",
        "colab_type": "code",
        "colab": {
          "base_uri": "https://localhost:8080/",
          "height": 68
        },
        "outputId": "9dff5b72-0829-41c7-9ec8-895d51178af2"
      },
      "source": [
        "print(s1.upper())\n",
        "print(s2.lower())\n",
        "print(s1.swapcase())\n"
      ],
      "execution_count": 45,
      "outputs": [
        {
          "output_type": "stream",
          "text": [
            "PYTHON\n",
            "python\n",
            "PYTHON\n"
          ],
          "name": "stdout"
        }
      ]
    },
    {
      "cell_type": "code",
      "metadata": {
        "id": "c_F4n24Ar9Js",
        "colab_type": "code",
        "colab": {
          "base_uri": "https://localhost:8080/",
          "height": 34
        },
        "outputId": "885ff749-73d9-4afa-8d00-2c5601b20d7f"
      },
      "source": [
        "s=\"PythON\"\n",
        "print(s.swapcase())"
      ],
      "execution_count": 46,
      "outputs": [
        {
          "output_type": "stream",
          "text": [
            "pYTHon\n"
          ],
          "name": "stdout"
        }
      ]
    },
    {
      "cell_type": "code",
      "metadata": {
        "id": "B90zPr28s1-S",
        "colab_type": "code",
        "colab": {
          "base_uri": "https://localhost:8080/",
          "height": 34
        },
        "outputId": "a7ea0204-39d4-4724-b73a-d1b3eacde644"
      },
      "source": [
        "s = \"abc abc abc\"\n",
        "s.count(\"abc\")#count returns frequency of given substring"
      ],
      "execution_count": 47,
      "outputs": [
        {
          "output_type": "execute_result",
          "data": {
            "text/plain": [
              "3"
            ]
          },
          "metadata": {
            "tags": []
          },
          "execution_count": 47
        }
      ]
    },
    {
      "cell_type": "code",
      "metadata": {
        "id": "coeHR-1otH8D",
        "colab_type": "code",
        "colab": {
          "base_uri": "https://localhost:8080/",
          "height": 51
        },
        "outputId": "5ad4208a-3b43-49ec-fd4b-972dd306945e"
      },
      "source": [
        "#split()--> return type is list\n",
        "print(s.split())\n",
        "s1=\"a,b,c,d\"\n",
        "print(s1.split(\",\"))\n"
      ],
      "execution_count": 52,
      "outputs": [
        {
          "output_type": "stream",
          "text": [
            "['abc', 'abc', 'abc']\n",
            "['a', 'b', 'c', 'd']\n"
          ],
          "name": "stdout"
        }
      ]
    },
    {
      "cell_type": "code",
      "metadata": {
        "id": "wwJFoQ29tk5I",
        "colab_type": "code",
        "colab": {
          "base_uri": "https://localhost:8080/",
          "height": 34
        },
        "outputId": "a9e8e5c2-de2f-44f4-f68f-5a2195962563"
      },
      "source": [
        "#replace\n",
        "s=\"abc\"#azc\n",
        "s=s.replace('b','z')\n",
        "print(s)"
      ],
      "execution_count": 55,
      "outputs": [
        {
          "output_type": "stream",
          "text": [
            "azc\n"
          ],
          "name": "stdout"
        }
      ]
    },
    {
      "cell_type": "code",
      "metadata": {
        "id": "8OPKRtQIu5l6",
        "colab_type": "code",
        "colab": {
          "base_uri": "https://localhost:8080/",
          "height": 68
        },
        "outputId": "ef67b17a-fbe9-4c56-8bfe-d67f083651a9"
      },
      "source": [
        "#accept a number(n) from user and remove nth position character from string\n",
        "n=int(input(\"enter a position\"))\n",
        "s=input(\"enter a string\")\n",
        "print(s.replace(s[n-1],\"\",1))\n"
      ],
      "execution_count": 59,
      "outputs": [
        {
          "output_type": "stream",
          "text": [
            "enter a position3\n",
            "enter a stringabcabc\n",
            "ababc\n"
          ],
          "name": "stdout"
        }
      ]
    },
    {
      "cell_type": "code",
      "metadata": {
        "id": "P4C24vTLw1Bc",
        "colab_type": "code",
        "colab": {}
      },
      "source": [
        ""
      ],
      "execution_count": 0,
      "outputs": []
    },
    {
      "cell_type": "markdown",
      "metadata": {
        "id": "YYQCCX2ezjAU",
        "colab_type": "text"
      },
      "source": [
        "### for loop\n",
        "1. for loop using rangefunction\n",
        "2. for loop with iterable object"
      ]
    },
    {
      "cell_type": "code",
      "metadata": {
        "id": "81Z6YXVfzpsH",
        "colab_type": "code",
        "colab": {
          "base_uri": "https://localhost:8080/",
          "height": 187
        },
        "outputId": "31e41422-3706-49b6-fe13-0f7d06290995"
      },
      "source": [
        "#print 1-n numbers using for loop\n",
        "n=10\n",
        "for i in range(1,n+1):\n",
        "  print(i,end=\"\\n\")\n",
        "\n"
      ],
      "execution_count": 64,
      "outputs": [
        {
          "output_type": "stream",
          "text": [
            "1\n",
            "2\n",
            "3\n",
            "4\n",
            "5\n",
            "6\n",
            "7\n",
            "8\n",
            "9\n",
            "10\n"
          ],
          "name": "stdout"
        }
      ]
    },
    {
      "cell_type": "code",
      "metadata": {
        "id": "CU4mzUyZ0brR",
        "colab_type": "code",
        "colab": {
          "base_uri": "https://localhost:8080/",
          "height": 34
        },
        "outputId": "662dbd2c-9e70-4002-8210-78b239d8a463"
      },
      "source": [
        "s=\"python\"\n",
        "for i in s:\n",
        "  print(i)"
      ],
      "execution_count": 66,
      "outputs": [
        {
          "output_type": "stream",
          "text": [
            "p y t h o n "
          ],
          "name": "stdout"
        }
      ]
    },
    {
      "cell_type": "code",
      "metadata": {
        "id": "yetdb7iN1sXT",
        "colab_type": "code",
        "colab": {
          "base_uri": "https://localhost:8080/",
          "height": 119
        },
        "outputId": "f92a9359-39ee-46a3-dc31-1990a63ba63e"
      },
      "source": [
        "# using while loop print all the characters ofthe string vertically\n",
        "s=\"python\"\n",
        "i=0\n",
        "while(i < len(s)):\n",
        "  print(s[i])\n",
        "  i+=1"
      ],
      "execution_count": 2,
      "outputs": [
        {
          "output_type": "stream",
          "text": [
            "p\n",
            "y\n",
            "t\n",
            "h\n",
            "o\n",
            "n\n"
          ],
          "name": "stdout"
        }
      ]
    },
    {
      "cell_type": "markdown",
      "metadata": {
        "id": "NLLMbwil3WJq",
        "colab_type": "text"
      },
      "source": [
        ""
      ]
    },
    {
      "cell_type": "code",
      "metadata": {
        "id": "syvqcl7N3W0J",
        "colab_type": "code",
        "colab": {
          "base_uri": "https://localhost:8080/",
          "height": 119
        },
        "outputId": "e5ad01a5-9009-461e-f0e6-b712f0a12e00"
      },
      "source": [
        "s=\"python\"\n",
        "for i in range(0,len(s)):\n",
        "  print(s[i])"
      ],
      "execution_count": 3,
      "outputs": [
        {
          "output_type": "stream",
          "text": [
            "p\n",
            "y\n",
            "t\n",
            "h\n",
            "o\n",
            "n\n"
          ],
          "name": "stdout"
        }
      ]
    },
    {
      "cell_type": "code",
      "metadata": {
        "id": "oaPOL2JD3Adn",
        "colab_type": "code",
        "colab": {}
      },
      "source": [
        "\n",
        "\n"
      ],
      "execution_count": 0,
      "outputs": []
    }
  ]
}